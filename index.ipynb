{
 "cells": [
  {
   "cell_type": "markdown",
   "metadata": {},
   "source": [
    "# Polynomial Regression - Lab"
   ]
  },
  {
   "cell_type": "markdown",
   "metadata": {},
   "source": [
    "## Introduction"
   ]
  },
  {
   "cell_type": "markdown",
   "metadata": {},
   "source": [
    "In this lab you'll practice your knowledge on adding polynomial terms to your regression model! "
   ]
  },
  {
   "cell_type": "markdown",
   "metadata": {},
   "source": [
    "## Objectives"
   ]
  },
  {
   "cell_type": "markdown",
   "metadata": {},
   "source": [
    "You will be able to:\n",
    "\n",
    "- Understand how to account for non-linear relationships between predictors and target variable using polynomial terms"
   ]
  },
  {
   "cell_type": "markdown",
   "metadata": {},
   "source": [
    "## Create the best plot using polynomials!"
   ]
  },
  {
   "cell_type": "markdown",
   "metadata": {},
   "source": [
    "Here is a plot with a clearly non-linear shape. Begin to think about what degree polynomial you believe will fit it best."
   ]
  },
  {
   "cell_type": "code",
   "execution_count": 1,
   "metadata": {},
   "outputs": [
    {
     "data": {
      "image/png": "[encoded data removed]",
      "text/plain": [
       "<Figure size 432x288 with 1 Axes>"
      ]
     },
     "metadata": {
      "needs_background": "light"
     },
     "output_type": "display_data"
    }
   ],
   "source": [
    "import numpy as np\n",
    "import matplotlib.pyplot as plt\n",
    "% matplotlib inline\n",
    "\n",
    "def pol(x):\n",
    "    return x * np.cos(x)\n",
    "\n",
    "x = np.linspace(0, 12, 100)\n",
    "rng = np.random.RandomState(1234)\n",
    "rng.shuffle(x)\n",
    "x = np.sort(x[:25])\n",
    "y = pol(x) + np.random.randn(25)*2\n",
    "\n",
    "plt.scatter(x, y, color='green', s=50, marker='.')\n",
    "\n",
    "plt.show();"
   ]
  },
  {
   "cell_type": "markdown",
   "metadata": {},
   "source": [
    "Now it's time to determine the optimal degree of polynomial features for a model that is fit to this data     \n",
    "- Plot a polynomial function using `PolynomialFeatures` for polynomials up until the second, third and fourth degree. Make sure to label each degree polynomial in your plot.   \n",
    "- Print out the $R^2$ value for each of the three results. Draw conclusions with respect to which degree is best."
   ]
  },
  {
   "cell_type": "markdown",
   "metadata": {},
   "source": [
    "## Solution"
   ]
  },
  {
   "cell_type": "code",
   "execution_count": 12,
   "metadata": {},
   "outputs": [],
   "source": [
    "from sklearn.preprocessing import PolynomialFeatures\n",
    "from sklearn.linear_model import LinearRegression"
   ]
  },
  {
   "cell_type": "code",
   "execution_count": 13,
   "metadata": {},
   "outputs": [],
   "source": [
    "for \n",
    "poly = PolynomialFeatures(2)\n",
    "x_fit = poly.fit_transform(x.reshape(-1, 1), y)\n",
    "reg_poly = LinearRegression().fit(x_fit, y)\n",
    "y_pred = reg_poly.predict(x_fit)"
   ]
  },
  {
   "cell_type": "code",
   "execution_count": 14,
   "metadata": {},
   "outputs": [
    {
     "data": {
      "text/plain": [
       "[<matplotlib.lines.Line2D at 0x7fd7d6cfe6d8>]"
      ]
     },
     "execution_count": 14,
     "metadata": {},
     "output_type": "execute_result"
    },
    {
     "data": {
      "image/png": "[encoded data removed]",
      "text/plain": [
       "<Figure size 432x288 with 1 Axes>"
      ]
     },
     "metadata": {
      "needs_background": "light"
     },
     "output_type": "display_data"
    }
   ],
   "source": [
    "plt.scatter(x, y, color='green', s=50, marker='.')\n",
    "plt.plot(x, y_pred, color='red')"
   ]
  },
  {
   "cell_type": "code",
   "execution_count": 10,
   "metadata": {},
   "outputs": [
    {
     "data": {
      "text/plain": [
       "array([[1.00000000e+00, 1.21212121e-01, 1.46923783e-02],\n",
       "       [1.00000000e+00, 1.09090909e+00, 1.19008264e+00],\n",
       "       [1.00000000e+00, 3.27272727e+00, 1.07107438e+01],\n",
       "       [1.00000000e+00, 3.51515152e+00, 1.23562902e+01],\n",
       "       [1.00000000e+00, 4.00000000e+00, 1.60000000e+01],\n",
       "       [1.00000000e+00, 4.24242424e+00, 1.79981635e+01],\n",
       "       [1.00000000e+00, 4.72727273e+00, 2.23471074e+01],\n",
       "       [1.00000000e+00, 4.84848485e+00, 2.35078053e+01],\n",
       "       [1.00000000e+00, 5.09090909e+00, 2.59173554e+01],\n",
       "       [1.00000000e+00, 6.18181818e+00, 3.82148760e+01],\n",
       "       [1.00000000e+00, 6.78787879e+00, 4.60752984e+01],\n",
       "       [1.00000000e+00, 7.15151515e+00, 5.11441690e+01],\n",
       "       [1.00000000e+00, 7.39393939e+00, 5.46703398e+01],\n",
       "       [1.00000000e+00, 7.63636364e+00, 5.83140496e+01],\n",
       "       [1.00000000e+00, 8.24242424e+00, 6.79375574e+01],\n",
       "       [1.00000000e+00, 8.60606061e+00, 7.40642792e+01],\n",
       "       [1.00000000e+00, 9.09090909e+00, 8.26446281e+01],\n",
       "       [1.00000000e+00, 9.81818182e+00, 9.63966942e+01],\n",
       "       [1.00000000e+00, 9.93939394e+00, 9.87915519e+01],\n",
       "       [1.00000000e+00, 1.03030303e+01, 1.06152433e+02],\n",
       "       [1.00000000e+00, 1.05454545e+01, 1.11206612e+02],\n",
       "       [1.00000000e+00, 1.06666667e+01, 1.13777778e+02],\n",
       "       [1.00000000e+00, 1.13939394e+01, 1.29821855e+02],\n",
       "       [1.00000000e+00, 1.16363636e+01, 1.35404959e+02],\n",
       "       [1.00000000e+00, 1.18787879e+01, 1.41105601e+02]])"
      ]
     },
     "execution_count": 10,
     "metadata": {},
     "output_type": "execute_result"
    }
   ],
   "source": [
    "y_pred"
   ]
  },
  {
   "cell_type": "markdown",
   "metadata": {},
   "source": [
    "## Summary"
   ]
  },
  {
   "cell_type": "markdown",
   "metadata": {},
   "source": [
    "Great! You now know how to include polynomials in your linear model!"
   ]
  }
 ],
 "metadata": {
  "kernelspec": {
   "display_name": "Python 3",
   "language": "python",
   "name": "python3"
  },
  "language_info": {
   "codemirror_mode": {
    "name": "ipython",
    "version": 3
   },
   "file_extension": ".py",
   "mimetype": "text/x-python",
   "name": "python",
   "nbconvert_exporter": "python",
   "pygments_lexer": "ipython3",
   "version": "3.6.6"
  }
 },
 "nbformat": 4,
 "nbformat_minor": 2
}
